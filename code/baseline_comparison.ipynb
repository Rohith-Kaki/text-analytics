{
 "cells": [
  {
   "cell_type": "code",
   "execution_count": 21,
   "id": "147dbddd",
   "metadata": {},
   "outputs": [
    {
     "name": "stdout",
     "output_type": "stream",
     "text": [
      "Dataset shape: (9002, 5)\n"
     ]
    }
   ],
   "source": [
    "import pandas as pd\n",
    "from sklearn.model_selection import train_test_split\n",
    "from sklearn.feature_extraction.text import TfidfVectorizer\n",
    "from sklearn.linear_model import LogisticRegression\n",
    "from sklearn.naive_bayes import MultinomialNB\n",
    "from sklearn.metrics import accuracy_score, f1_score, classification_report\n",
    "import matplotlib.pyplot as plt\n",
    "from tensorflow.keras.models import load_model\n",
    "from tensorflow.keras.preprocessing.sequence import pad_sequences\n",
    "import pickle\n",
    "import seaborn as sns\n",
    "import warnings\n",
    "warnings.filterwarnings(\"ignore\")\n",
    "\n",
    "# Load the dataset\n",
    "df = pd.read_csv(\"complete_hinglish_sentiment.csv\")  # your file name here\n",
    "print(\"Dataset shape:\", df.shape)\n",
    "\n",
    "# Select text and labels\n",
    "X = df[\"hinglish_clean\"].astype(str)\n",
    "y = df[\"label_encoded\"]\n",
    "\n",
    "# Split data\n",
    "X_train, X_test, y_train, y_test = train_test_split(\n",
    "    X, y, test_size=0.2, random_state=42, stratify=y\n",
    ")"
   ]
  },
  {
   "cell_type": "code",
   "execution_count": 22,
   "id": "f064d07c",
   "metadata": {},
   "outputs": [
    {
     "data": {
      "text/html": [
       "<div>\n",
       "<style scoped>\n",
       "    .dataframe tbody tr th:only-of-type {\n",
       "        vertical-align: middle;\n",
       "    }\n",
       "\n",
       "    .dataframe tbody tr th {\n",
       "        vertical-align: top;\n",
       "    }\n",
       "\n",
       "    .dataframe thead th {\n",
       "        text-align: right;\n",
       "    }\n",
       "</style>\n",
       "<table border=\"1\" class=\"dataframe\">\n",
       "  <thead>\n",
       "    <tr style=\"text-align: right;\">\n",
       "      <th></th>\n",
       "      <th>en</th>\n",
       "      <th>hinglish</th>\n",
       "      <th>label</th>\n",
       "      <th>hinglish_clean</th>\n",
       "      <th>label_encoded</th>\n",
       "    </tr>\n",
       "  </thead>\n",
       "  <tbody>\n",
       "    <tr>\n",
       "      <th>0</th>\n",
       "      <td>Batman vs Superman</td>\n",
       "      <td>batman vs superman</td>\n",
       "      <td>neutral</td>\n",
       "      <td>batman vs superman</td>\n",
       "      <td>1</td>\n",
       "    </tr>\n",
       "    <tr>\n",
       "      <th>1</th>\n",
       "      <td>The director is Zack Snyder , 27 % Rotten Toma...</td>\n",
       "      <td>Zack Snyder director हैं , 27 % Rotten Tomatoe...</td>\n",
       "      <td>neutral</td>\n",
       "      <td>zack snyder director हैं rotten tomatoes</td>\n",
       "      <td>1</td>\n",
       "    </tr>\n",
       "    <tr>\n",
       "      <th>2</th>\n",
       "      <td>Not very popular it seems</td>\n",
       "      <td>लगता है बहुत popular नहीं है</td>\n",
       "      <td>negative</td>\n",
       "      <td>लगता है बहुत popular नहीं है</td>\n",
       "      <td>0</td>\n",
       "    </tr>\n",
       "    <tr>\n",
       "      <th>3</th>\n",
       "      <td>But the audiences liked it . It has a B cinema...</td>\n",
       "      <td>but audience ने like किया , इसका cinema score ...</td>\n",
       "      <td>positive</td>\n",
       "      <td>but audience ने like किया इसका cinema score भी है</td>\n",
       "      <td>2</td>\n",
       "    </tr>\n",
       "    <tr>\n",
       "      <th>4</th>\n",
       "      <td>Yes</td>\n",
       "      <td>yes</td>\n",
       "      <td>neutral</td>\n",
       "      <td>yes</td>\n",
       "      <td>1</td>\n",
       "    </tr>\n",
       "  </tbody>\n",
       "</table>\n",
       "</div>"
      ],
      "text/plain": [
       "                                                  en  \\\n",
       "0                                 Batman vs Superman   \n",
       "1  The director is Zack Snyder , 27 % Rotten Toma...   \n",
       "2                          Not very popular it seems   \n",
       "3  But the audiences liked it . It has a B cinema...   \n",
       "4                                                Yes   \n",
       "\n",
       "                                            hinglish     label  \\\n",
       "0                                 batman vs superman   neutral   \n",
       "1  Zack Snyder director हैं , 27 % Rotten Tomatoe...   neutral   \n",
       "2                       लगता है बहुत popular नहीं है  negative   \n",
       "3  but audience ने like किया , इसका cinema score ...  positive   \n",
       "4                                                yes   neutral   \n",
       "\n",
       "                                      hinglish_clean  label_encoded  \n",
       "0                                 batman vs superman              1  \n",
       "1           zack snyder director हैं rotten tomatoes              1  \n",
       "2                       लगता है बहुत popular नहीं है              0  \n",
       "3  but audience ने like किया इसका cinema score भी है              2  \n",
       "4                                                yes              1  "
      ]
     },
     "execution_count": 22,
     "metadata": {},
     "output_type": "execute_result"
    }
   ],
   "source": [
    "df.head()"
   ]
  },
  {
   "cell_type": "code",
   "execution_count": 23,
   "id": "5f8cdf2b",
   "metadata": {},
   "outputs": [
    {
     "name": "stdout",
     "output_type": "stream",
     "text": [
      "\n",
      "🔹 Naive Bayes Results\n",
      "Accuracy: 0.6952\n",
      "F1-score (macro): 0.49\n",
      "\n",
      "Classification Report:\n",
      "               precision    recall  f1-score   support\n",
      "\n",
      "           0       1.00      0.01      0.03       147\n",
      "           1       0.68      0.81      0.74       887\n",
      "           2       0.71      0.69      0.70       767\n",
      "\n",
      "    accuracy                           0.70      1801\n",
      "   macro avg       0.80      0.51      0.49      1801\n",
      "weighted avg       0.72      0.70      0.67      1801\n",
      "\n"
     ]
    }
   ],
   "source": [
    "# TF-IDF vectorization\n",
    "vectorizer = TfidfVectorizer(max_features=5000, ngram_range=(1, 2))\n",
    "X_train_tfidf = vectorizer.fit_transform(X_train)\n",
    "X_test_tfidf = vectorizer.transform(X_test)\n",
    "\n",
    "# -------------------------------\n",
    "# navie bayes Baseline\n",
    "# -------------------------------\n",
    "nb_model = MultinomialNB()\n",
    "nb_model.fit(X_train_tfidf, y_train)\n",
    "\n",
    "y_pred_nb = nb_model.predict(X_test_tfidf)\n",
    "\n",
    "acc_nb = accuracy_score(y_test, y_pred_nb)\n",
    "f1_nb = f1_score(y_test, y_pred_nb, average='macro')\n",
    "\n",
    "print(\"\\n🔹 Naive Bayes Results\")\n",
    "print(\"Accuracy:\", round(acc_nb, 4))\n",
    "print(\"F1-score (macro):\", round(f1_nb, 4))\n",
    "print(\"\\nClassification Report:\\n\", classification_report(y_test, y_pred_nb))\n",
    "\n"
   ]
  },
  {
   "cell_type": "code",
   "execution_count": 24,
   "id": "529d9659",
   "metadata": {},
   "outputs": [
    {
     "name": "stdout",
     "output_type": "stream",
     "text": [
      "\u001b[1m57/57\u001b[0m \u001b[32m━━━━━━━━━━━━━━━━━━━━\u001b[0m\u001b[37m\u001b[0m \u001b[1m1s\u001b[0m 14ms/step\n"
     ]
    }
   ],
   "source": [
    "# --------------------------------------------------------\n",
    "# 4LSTM Model Evaluation\n",
    "# --------------------------------------------------------\n",
    "# Load trained LSTM model and tokenizer\n",
    "import numpy as np\n",
    "model = load_model(\"lstm_hinglish_sentiment.keras\", compile=False)\n",
    "model.compile(optimizer='adam', loss='sparse_categorical_crossentropy', metrics=['accuracy'])\n",
    "\n",
    "with open(\"tokenizer.pkl\", \"rb\") as f:\n",
    "    tokenizer = pickle.load(f)\n",
    "\n",
    "# Ensure same sequence length used in training\n",
    "max_len = 50  # replace with your training max_len value\n",
    "\n",
    "# Tokenize & pad test data\n",
    "X_test_seq = tokenizer.texts_to_sequences(X_test)\n",
    "X_test_pad = pad_sequences(X_test_seq, maxlen=max_len, padding='post', truncating='post')\n",
    "\n",
    "# Evaluate on test data\n",
    "loss, acc_lstm = model.evaluate(X_test_pad, y_test, verbose=0)\n",
    "y_pred_probs = model.predict(X_test_pad)\n",
    "y_pred_lstm = np.argmax(y_pred_probs, axis=1)\n",
    "f1_lstm = f1_score(y_test, y_pred_lstm, average='macro')"
   ]
  },
  {
   "cell_type": "code",
   "execution_count": 28,
   "id": "b23b9830",
   "metadata": {},
   "outputs": [
    {
     "name": "stdout",
     "output_type": "stream",
     "text": [
      "\n",
      " Model Comparison Summary\n",
      "                  Model  Accuracy  F1-score\n",
      "0           Naive Bayes  0.695169  0.490027\n",
      "1  LSTM (Deep Learning)  0.747363  0.630982\n"
     ]
    }
   ],
   "source": [
    "results = pd.DataFrame({\n",
    "    \"Model\": [\"Naive Bayes\", \"LSTM (Deep Learning)\"],\n",
    "    \"Accuracy\": [acc_nb, acc_lstm],\n",
    "    \"F1-score\": [f1_nb, f1_lstm]\n",
    "})\n",
    "\n",
    "print(\"\\n Model Comparison Summary\")\n",
    "print(results)"
   ]
  },
  {
   "cell_type": "code",
   "execution_count": 27,
   "id": "90b421fc",
   "metadata": {},
   "outputs": [
    {
     "data": {
      "image/png": "[encoded data removed]",
      "text/plain": [
       "<Figure size 800x400 with 1 Axes>"
      ]
     },
     "metadata": {},
     "output_type": "display_data"
    },
    {
     "data": {
      "image/png": "[encoded data removed]",
      "text/plain": [
       "<Figure size 800x400 with 1 Axes>"
      ]
     },
     "metadata": {},
     "output_type": "display_data"
    },
    {
     "name": "stdout",
     "output_type": "stream",
     "text": [
      "\n",
      " Comparison complete. LSTM vs Baselines successfully evaluated.\n"
     ]
    }
   ],
   "source": [
    "plt.figure(figsize=(8,4))\n",
    "sns.barplot(x=\"Model\", y=\"Accuracy\", data=results, palette=\"Blues_d\")\n",
    "plt.title(\"Model Comparison: Accuracy\")\n",
    "plt.ylim(0, 1)\n",
    "plt.show()\n",
    "\n",
    "plt.figure(figsize=(8,4))\n",
    "sns.barplot(x=\"Model\", y=\"F1-score\", data=results, palette=\"Greens_d\")\n",
    "plt.title(\"Model Comparison: F1-score\")\n",
    "plt.ylim(0, 1)\n",
    "plt.show()\n",
    "\n",
    "print(\"\\n Comparison complete. LSTM vs Baselines successfully evaluated.\")"
   ]
  },
  {
   "cell_type": "code",
   "execution_count": null,
   "id": "82650617",
   "metadata": {},
   "outputs": [],
   "source": []
  }
 ],
 "metadata": {
  "kernelspec": {
   "display_name": "hinglish_sentiment",
   "language": "python",
   "name": "python3"
  },
  "language_info": {
   "codemirror_mode": {
    "name": "ipython",
    "version": 3
   },
   "file_extension": ".py",
   "mimetype": "text/x-python",
   "name": "python",
   "nbconvert_exporter": "python",
   "pygments_lexer": "ipython3",
   "version": "3.10.18"
  }
 },
 "nbformat": 4,
 "nbformat_minor": 5
}

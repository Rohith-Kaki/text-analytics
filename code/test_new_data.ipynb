{
 "cells": [
  {
   "cell_type": "code",
   "execution_count": 1,
   "id": "6c4c56e6",
   "metadata": {},
   "outputs": [
    {
     "name": "stderr",
     "output_type": "stream",
     "text": [
      "WARNING:absl:Compiled the loaded model, but the compiled metrics have yet to be built. `model.compile_metrics` will be empty until you train or evaluate the model.\n"
     ]
    }
   ],
   "source": [
    "from tensorflow.keras.models import load_model\n",
    "import pickle\n",
    "\n",
    "# Load model\n",
    "model = load_model(\"lstm_hinglish_sentiment.h5\")\n",
    "\n",
    "# Load tokenizer\n",
    "with open(\"tokenizer.pkl\", \"rb\") as handle:\n",
    "    tokenizer = pickle.load(handle)"
   ]
  },
  {
   "cell_type": "code",
   "execution_count": 6,
   "id": "037cf724",
   "metadata": {},
   "outputs": [],
   "source": [
    "from tensorflow.keras.preprocessing.sequence import pad_sequences\n",
    "import numpy as np\n",
    "\n",
    "max_len = 50  # use the same max_len as during training\n",
    "\n",
    "import re\n",
    "from tensorflow.keras.preprocessing.sequence import pad_sequences\n",
    "\n",
    "# Text cleaning (you can expand this)\n",
    "def clean_text(text):\n",
    "    text = text.lower()\n",
    "    text = re.sub(r\"http\\S+\", \"\", text)   # remove URLs\n",
    "    text = re.sub(r\"[^a-zA-Z\\u0900-\\u097F\\s]\", \"\", text)\n",
    "    text = re.sub(r\"\\s+\", \" \", text).strip()\n",
    "    print(text)\n",
    "    return text\n",
    "\n",
    "# Function to preprocess and prepare input for model\n",
    "def preprocess_text(text, tokenizer, max_len):\n",
    "    cleaned = clean_text(text)\n",
    "    seq = tokenizer.texts_to_sequences([cleaned])\n",
    "    padded = pad_sequences(seq, maxlen=max_len, padding='post', truncating='post')\n",
    "    return padded\n"
   ]
  },
  {
   "cell_type": "code",
   "execution_count": 7,
   "id": "344ee297",
   "metadata": {},
   "outputs": [
    {
     "name": "stdout",
     "output_type": "stream",
     "text": [
      "वैसे मैं sure नहीं हूं कि मैं metacritic के score से agree करूंगा\n",
      "\u001b[1m1/1\u001b[0m \u001b[32m━━━━━━━━━━━━━━━━━━━━\u001b[0m\u001b[37m\u001b[0m \u001b[1m0s\u001b[0m 51ms/step\n",
      "Predicted Sentiment: Positive\n"
     ]
    }
   ],
   "source": [
    "def predict_sentiment(text):\n",
    "    padded_seq = preprocess_text(text, tokenizer, max_len)\n",
    "    pred = model.predict(padded_seq)\n",
    "    label = np.argmax(pred, axis=1)[0]\n",
    "    \n",
    "    sentiment_map = {0: \"Negative\", 1: \"Neutral\", 2: \"Positive\"}\n",
    "    return sentiment_map[label]\n",
    "\n",
    "# Example\n",
    "user_input = \"वैसे मैं sure नहीं हूं कि मैं Metacritic के 70/100 score से agree करूंगा\"\n",
    "print(\"Predicted Sentiment:\", predict_sentiment(user_input))\n"
   ]
  },
  {
   "cell_type": "code",
   "execution_count": 8,
   "id": "0de7cec9",
   "metadata": {},
   "outputs": [
    {
     "name": "stdout",
     "output_type": "stream",
     "text": [
      "Baseline (TextBlob): Positive\n",
      "वैसे मैं sure नहीं हूं कि मैं metacritic के score से agree करूंगा\n",
      "\u001b[1m1/1\u001b[0m \u001b[32m━━━━━━━━━━━━━━━━━━━━\u001b[0m\u001b[37m\u001b[0m \u001b[1m0s\u001b[0m 52ms/step\n",
      "LSTM Prediction: Positive\n"
     ]
    }
   ],
   "source": [
    "from textblob import TextBlob\n",
    "\n",
    "def baseline_textblob_sentiment(text):\n",
    "    polarity = TextBlob(text).sentiment.polarity\n",
    "    if polarity > 0.1:\n",
    "        return \"Positive\"\n",
    "    elif polarity < -0.1:\n",
    "        return \"Negative\"\n",
    "    else:\n",
    "        return \"Neutral\"\n",
    "\n",
    "print(\"Baseline (TextBlob):\", baseline_textblob_sentiment(user_input))\n",
    "print(\"LSTM Prediction:\", predict_sentiment(user_input))\n"
   ]
  },
  {
   "cell_type": "code",
   "execution_count": null,
   "id": "4ae34b12",
   "metadata": {},
   "outputs": [],
   "source": []
  }
 ],
 "metadata": {
  "kernelspec": {
   "display_name": "hinglish_sentiment",
   "language": "python",
   "name": "python3"
  },
  "language_info": {
   "codemirror_mode": {
    "name": "ipython",
    "version": 3
   },
   "file_extension": ".py",
   "mimetype": "text/x-python",
   "name": "python",
   "nbconvert_exporter": "python",
   "pygments_lexer": "ipython3",
   "version": "3.10.18"
  }
 },
 "nbformat": 4,
 "nbformat_minor": 5
}
